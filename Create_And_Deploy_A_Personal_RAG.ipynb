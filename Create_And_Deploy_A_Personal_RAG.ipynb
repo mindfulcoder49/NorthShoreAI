{
  "nbformat": 4,
  "nbformat_minor": 0,
  "metadata": {
    "colab": {
      "provenance": [],
      "authorship_tag": "ABX9TyNTVDS9PlhvG1t+RVIoMU1W",
      "include_colab_link": true
    },
    "kernelspec": {
      "name": "python3",
      "display_name": "Python 3"
    },
    "language_info": {
      "name": "python"
    }
  },
  "cells": [
    {
      "cell_type": "markdown",
      "metadata": {
        "id": "view-in-github",
        "colab_type": "text"
      },
      "source": [
        "<a href=\"https://colab.research.google.com/github/mindfulcoder49/NorthShoreAI/blob/main/Create_And_Deploy_A_Personal_RAG.ipynb\" target=\"_parent\"><img src=\"https://colab.research.google.com/assets/colab-badge.svg\" alt=\"Open In Colab\"/></a>"
      ]
    },
    {
      "cell_type": "markdown",
      "source": [
        "# Create and Deploy a personal RAG app\n",
        "\n",
        "Welcome to the 2nd Meetup of North Shore AI Developers. Last time we created a full stack app that ran completely inside of a Colab notebook with the help of Gradio. This time we are going to use Google Colab to create our app and deploy it to github, after which we will use Vercel to deploy it in a persistent way.\n",
        "\n",
        "For this notebook, you need the following things:\n",
        "\n",
        "1. A GitHub account\n",
        "2. A Vercel account\n",
        "3. An OpenAI API key\n",
        "\n",
        "All of these accounts are free except the OpenAI API key requires a little bit of money to use. Demoing this notebook costs less than ten cents.\n",
        "\n",
        "If you do not want to make an OpenAI account, you can contact me, the organizer, for a temporary key that you can use for a while.\n"
      ],
      "metadata": {
        "id": "U0UgmnVIDypw"
      }
    },
    {
      "cell_type": "markdown",
      "source": [
        "## Step 1: Set your github email and name\n",
        "\n",
        "If you don't have a github account, now is a great time to make one. They are free!"
      ],
      "metadata": {
        "id": "mYzL38Vg7zcI"
      }
    },
    {
      "cell_type": "code",
      "source": [
        "your_github_email = \"alex.g.alcivar49@gmail.com\"\n",
        "your_github_name = \"Alex Alcivar\""
      ],
      "metadata": {
        "id": "o4NuwZCn6asZ"
      },
      "execution_count": 1,
      "outputs": []
    },
    {
      "cell_type": "markdown",
      "source": [
        "## Step 2: Create a private github repo\n",
        "\n",
        "We are going to create a private repo because we are starting a business and we don't want other people to see our ideas before we are ready. Create a private repository on github, maybe called \"my-create-llama-app\" and copy the SSH github URL below:"
      ],
      "metadata": {
        "id": "92EcjzJu7-83"
      }
    },
    {
      "cell_type": "code",
      "source": [
        "\n",
        "your_github_repo = \"git@github.com:mindfulcoder49/my-create-llama-app.git\""
      ],
      "metadata": {
        "id": "F-OX7l-57y3P"
      },
      "execution_count": 2,
      "outputs": []
    },
    {
      "cell_type": "code",
      "source": [
        "from google.colab import userdata\n",
        "import os\n",
        "os.environ['MYAPIKEY'] = userdata.get('OPENAI_API_KEY')\n",
        "os.environ['MYEMAIL'] = your_github_email\n",
        "os.environ['MYNAME'] = your_github_name\n",
        "os.environ['MYREPO'] = your_github_repo"
      ],
      "metadata": {
        "id": "fvsN9L-l-1z_"
      },
      "execution_count": 4,
      "outputs": []
    },
    {
      "cell_type": "markdown",
      "source": [
        "## Step 3: Generate SSH Keys to access your GitHub repository\n",
        "\n",
        "You need to generate SSH Keys here on your development machine and then add the public key to your GitHub account settings. This is found by clicking the profile icon in the top right of the page on GitHub, then Settings, then SSH and GPG Keys. Then click Add, give it any name, and paste in the key generated below:"
      ],
      "metadata": {
        "id": "aV8itUiW9NwX"
      }
    },
    {
      "cell_type": "code",
      "source": [
        "!ssh-keygen -t rsa -b 4096 -C $MYEMAIL\n",
        "\n",
        "#When prompted to enter the file, just click to the right of the text and hit enter. Do this for all prompts in this notebook."
      ],
      "metadata": {
        "id": "mYutmsW5LfZM",
        "colab": {
          "base_uri": "https://localhost:8080/"
        },
        "outputId": "916f7d35-9d9e-4dbf-caba-33690f960716"
      },
      "execution_count": 5,
      "outputs": [
        {
          "output_type": "stream",
          "name": "stdout",
          "text": [
            "Generating public/private rsa key pair.\n",
            "Enter file in which to save the key (/root/.ssh/id_rsa): \n",
            "Created directory '/root/.ssh'.\n",
            "Enter passphrase (empty for no passphrase): \n",
            "Enter same passphrase again: \n",
            "Your identification has been saved in /root/.ssh/id_rsa\n",
            "Your public key has been saved in /root/.ssh/id_rsa.pub\n",
            "The key fingerprint is:\n",
            "SHA256:PKyHHQU1lPVSFkdRovx94icjr4nYBCzIIVmTNSqfjoc alex.g.alcivar49@gmail.com\n",
            "The key's randomart image is:\n",
            "+---[RSA 4096]----+\n",
            "|    ooo .o+o. =+*|\n",
            "|   o.o . ..o = o |\n",
            "|  + o     . + .  |\n",
            "|   = + + .   o . |\n",
            "|    = . S     o o|\n",
            "|   +   = +   . ..|\n",
            "|  E o o o . . + .|\n",
            "|   .   . + . + + |\n",
            "|        . o o..  |\n",
            "+----[SHA256]-----+\n"
          ]
        }
      ]
    },
    {
      "cell_type": "code",
      "source": [
        "!cat /root/.ssh/id_rsa.pub\n"
      ],
      "metadata": {
        "id": "KKQVdfCSLy16",
        "colab": {
          "base_uri": "https://localhost:8080/"
        },
        "outputId": "3c831126-170a-40fb-8b85-a34745d905bc"
      },
      "execution_count": 6,
      "outputs": [
        {
          "output_type": "stream",
          "name": "stdout",
          "text": [
            "ssh-rsa AAAAB3NzaC1yc2EAAAADAQABAAACAQC9gYgGhOEGnj+y3sQl3Vn20fns4FWXw7PPOSMposPZKhnqhOFM87ZKJYkyrv3zBpYWwTO1OGd1RPzkzq7B2IT2l64mevtpPgtjnVWJ2KtUII43+UdHY+iELwVGe9D3Fs86zfM/t4HEMqICh6NQazRoN54QOCNnp+pADitOq2ewWgxsofd+rImPpoFHifpnHSYqu0SDVNk0MnK6nOfwKDfh73c9aVtkEgwukMsq3YhEY8i8WKsIkwiWbjD5T4/0InpfzKTwejF8t3XrY9FsYHLqgVJlzWSyGADpfH27ppwqZesF6FOB9cgIE8mFNm0E/7PCyTvRxAmIu2eQ/MEksg87ovktGozxKP68KZRU+baqmHxmJ3qQ1q0QhSmAiAVKdZ/WHnmH3wzzUcsUnNNTRi75s6/D+z/MTm8pKQ5oEdy5iH2fM0rEJt3pLjXE+XkFMHmjZmkMCrrVhkWRLjHUCeMelCSzDBd2BBaTG3CXpPH8iuraBplBBgh27QoDi71w/qvax+ePimS+eYa1lGVWyb7I9jBowW+WHchydKg36xexZeE/tpc5RenQCoxJ03TaMFLDNB+trZa+3dLJX0Ssm922MdCFV7trKkdY+dmD4Zx/PDqCc5sj/+SiAL2FMrZ60T/UYNSJYZeqtFzdJJwTh+vWkvtAbkc/qgibGbvCBc1Mvw== alex.g.alcivar49@gmail.com\n"
          ]
        }
      ]
    },
    {
      "cell_type": "markdown",
      "source": [
        "## Step 4: Generate the App code"
      ],
      "metadata": {
        "id": "gJpQQtAT9vlB"
      }
    },
    {
      "cell_type": "code",
      "source": [
        "!dpkg --configure -a\n",
        "!sudo apt-get update\n",
        "!sudo apt-get install -y ca-certificates curl gnupg\n",
        "!sudo mkdir -p /etc/apt/keyrings\n",
        "!curl -fsSL https://deb.nodesource.com/gpgkey/nodesource-repo.gpg.key | sudo gpg --dearmor -o /etc/apt/keyrings/nodesource.gpg\n",
        "!NODE_MAJOR=18 && echo \"deb [signed-by=/etc/apt/keyrings/nodesource.gpg] https://deb.nodesource.com/node_$NODE_MAJOR.x nodistro main\" | sudo tee /etc/apt/sources.list.d/nodesource.list\n",
        "!sudo apt-get update\n",
        "# RUN the following commented lines to remove the previous installed nodejs (avoid conflict error)\n",
        "#!sudo dpkg --remove --force-remove-reinstreq nodejs\n",
        "#!sudo dpkg --remove --force-remove-reinstreq libnode-dev\n",
        "#!sudo dpkg --remove --force-remove-reinstreq libnode72:amd64\n",
        "!sudo apt-get install nodejs -y"
      ],
      "metadata": {
        "colab": {
          "base_uri": "https://localhost:8080/"
        },
        "id": "iIHM1SnZwdAM",
        "outputId": "e0364274-f070-4560-b179-bee7d338b313"
      },
      "execution_count": 7,
      "outputs": [
        {
          "output_type": "stream",
          "name": "stdout",
          "text": [
            "\r0% [Working]\r            \rHit:1 http://archive.ubuntu.com/ubuntu jammy InRelease\n",
            "\r0% [Waiting for headers] [Connected to cloud.r-project.org (108.138.128.126)] [\r                                                                               \rGet:2 http://archive.ubuntu.com/ubuntu jammy-updates InRelease [119 kB]\n",
            "\r                                                                               \rGet:3 http://security.ubuntu.com/ubuntu jammy-security InRelease [110 kB]\n",
            "\r0% [2 InRelease 47.5 kB/119 kB 40%] [3 InRelease 102 kB/110 kB 93%] [Connected \r0% [2 InRelease 53.3 kB/119 kB 45%] [Connected to cloud.r-project.org (108.138.\r0% [Waiting for headers] [Waiting for headers] [Connected to ppa.launchpadconte\r                                                                               \rGet:4 https://cloud.r-project.org/bin/linux/ubuntu jammy-cran40/ InRelease [3,626 B]\n",
            "\r0% [Waiting for headers] [Connected to ppa.launchpadcontent.net (185.125.190.80\r                                                                               \rHit:5 http://archive.ubuntu.com/ubuntu jammy-backports InRelease\n",
            "Hit:6 https://developer.download.nvidia.com/compute/cuda/repos/ubuntu2204/x86_64  InRelease\n",
            "Hit:7 https://ppa.launchpadcontent.net/c2d4u.team/c2d4u4.0+/ubuntu jammy InRelease\n",
            "Hit:8 https://ppa.launchpadcontent.net/deadsnakes/ppa/ubuntu jammy InRelease\n",
            "Get:9 http://archive.ubuntu.com/ubuntu jammy-updates/main amd64 Packages [1,742 kB]\n",
            "Hit:10 https://ppa.launchpadcontent.net/graphics-drivers/ppa/ubuntu jammy InRelease\n",
            "Hit:11 https://ppa.launchpadcontent.net/ubuntugis/ppa/ubuntu jammy InRelease\n",
            "Fetched 1,975 kB in 1s (1,564 kB/s)\n",
            "Reading package lists... Done\n",
            "Reading package lists... Done\n",
            "Building dependency tree... Done\n",
            "Reading state information... Done\n",
            "ca-certificates is already the newest version (20230311ubuntu0.22.04.1).\n",
            "curl is already the newest version (7.81.0-1ubuntu1.15).\n",
            "gnupg is already the newest version (2.2.27-3ubuntu2.1).\n",
            "gnupg set to manually installed.\n",
            "0 upgraded, 0 newly installed, 0 to remove and 35 not upgraded.\n",
            "deb [signed-by=/etc/apt/keyrings/nodesource.gpg] https://deb.nodesource.com/node_18.x nodistro main\n",
            "Hit:1 http://security.ubuntu.com/ubuntu jammy-security InRelease\n",
            "Hit:2 http://archive.ubuntu.com/ubuntu jammy InRelease\n",
            "Hit:3 http://archive.ubuntu.com/ubuntu jammy-updates InRelease\n",
            "Hit:4 http://archive.ubuntu.com/ubuntu jammy-backports InRelease\n",
            "Hit:5 https://cloud.r-project.org/bin/linux/ubuntu jammy-cran40/ InRelease\n",
            "Hit:6 https://developer.download.nvidia.com/compute/cuda/repos/ubuntu2204/x86_64  InRelease\n",
            "Get:7 https://deb.nodesource.com/node_18.x nodistro InRelease [12.1 kB]\n",
            "Hit:8 https://ppa.launchpadcontent.net/c2d4u.team/c2d4u4.0+/ubuntu jammy InRelease\n",
            "Hit:9 https://ppa.launchpadcontent.net/deadsnakes/ppa/ubuntu jammy InRelease\n",
            "Hit:10 https://ppa.launchpadcontent.net/graphics-drivers/ppa/ubuntu jammy InRelease\n",
            "Hit:11 https://ppa.launchpadcontent.net/ubuntugis/ppa/ubuntu jammy InRelease\n",
            "Get:12 https://deb.nodesource.com/node_18.x nodistro/main amd64 Packages [7,134 B]\n",
            "Fetched 19.3 kB in 1s (16.3 kB/s)\n",
            "Reading package lists... Done\n",
            "Reading package lists... Done\n",
            "Building dependency tree... Done\n",
            "Reading state information... Done\n",
            "The following NEW packages will be installed:\n",
            "  nodejs\n",
            "0 upgraded, 1 newly installed, 0 to remove and 35 not upgraded.\n",
            "Need to get 29.8 MB of archives.\n",
            "After this operation, 190 MB of additional disk space will be used.\n",
            "Get:1 https://deb.nodesource.com/node_18.x nodistro/main amd64 nodejs amd64 18.19.1-1nodesource1 [29.8 MB]\n",
            "Fetched 29.8 MB in 0s (64.8 MB/s)\n",
            "debconf: unable to initialize frontend: Dialog\n",
            "debconf: (No usable dialog-like program is installed, so the dialog based frontend cannot be used. at /usr/share/perl5/Debconf/FrontEnd/Dialog.pm line 78, <> line 1.)\n",
            "debconf: falling back to frontend: Readline\n",
            "debconf: unable to initialize frontend: Readline\n",
            "debconf: (This frontend requires a controlling tty.)\n",
            "debconf: falling back to frontend: Teletype\n",
            "dpkg-preconfigure: unable to re-open stdin: \n",
            "Selecting previously unselected package nodejs.\n",
            "(Reading database ... 121749 files and directories currently installed.)\n",
            "Preparing to unpack .../nodejs_18.19.1-1nodesource1_amd64.deb ...\n",
            "Unpacking nodejs (18.19.1-1nodesource1) ...\n",
            "Setting up nodejs (18.19.1-1nodesource1) ...\n",
            "Processing triggers for man-db (2.10.2-1) ...\n"
          ]
        }
      ]
    },
    {
      "cell_type": "code",
      "source": [
        "!npx create-llama@latest my-app\n",
        "\n",
        "\n",
        "#When prompted to enter input, just click to the right of the text and hit enter. Do this for all prompts in this notebook.\n"
      ],
      "metadata": {
        "colab": {
          "base_uri": "https://localhost:8080/"
        },
        "id": "GqoC0kurO89a",
        "outputId": "be9d32f8-37ed-4b64-b6fb-27a67e2deb45"
      },
      "execution_count": 8,
      "outputs": [
        {
          "output_type": "stream",
          "name": "stdout",
          "text": [
            "\u001b[1G\u001b[0JNeed to install the following packages:\r\n",
            "create-llama@0.0.25\n",
            "Ok to proceed? (y) \u001b[20G\n",
            "\u001b[K\u001b[?25h\u001b[?25l\u001b[36m?\u001b[39m \u001b[1mWhich template would you like to use?\u001b[22m \u001b[90m›\u001b[39m \u001b[90m- Use arrow-keys. Return to submit.\u001b[39m\n",
            "   Chat without streaming\n",
            "\u001b[36m❯\u001b[39m  \u001b[36m\u001b[4mChat with streaming\u001b[39m\u001b[24m\n",
            "   Community template from \u001b[34mhttps://github.com/run-llama/create_llama_projects\u001b[39m\n",
            "   Example using a LlamaPack\u001b[2K\u001b[1A\u001b[2K\u001b[1A\u001b[2K\u001b[1A\u001b[2K\u001b[1A\u001b[2K\u001b[G\u001b[32m✔\u001b[39m \u001b[1mWhich template would you like to use?\u001b[22m \u001b[90m›\u001b[39m Chat with streaming\n",
            "\u001b[?25h\u001b[?25l\u001b[36m?\u001b[39m \u001b[1mWhich framework would you like to use?\u001b[22m \u001b[90m›\u001b[39m \u001b[90m- Use arrow-keys. Return to submit.\u001b[39m\n",
            "\u001b[36m❯\u001b[39m  \u001b[36m\u001b[4mNextJS\u001b[39m\u001b[24m\n",
            "   Express\n",
            "   FastAPI (Python)\u001b[2K\u001b[1A\u001b[2K\u001b[1A\u001b[2K\u001b[1A\u001b[2K\u001b[G\u001b[32m✔\u001b[39m \u001b[1mWhich framework would you like to use?\u001b[22m \u001b[90m›\u001b[39m NextJS\n",
            "\u001b[?25h\u001b[?25l\u001b[36m?\u001b[39m \u001b[1mWhich UI would you like to use?\u001b[22m \u001b[90m›\u001b[39m \u001b[90m- Use arrow-keys. Return to submit.\u001b[39m\n",
            "\u001b[36m❯\u001b[39m  \u001b[36m\u001b[4mJust HTML\u001b[39m\u001b[24m\n",
            "   Shadcn\u001b[2K\u001b[1A\u001b[2K\u001b[1A\u001b[2K\u001b[G\u001b[32m✔\u001b[39m \u001b[1mWhich UI would you like to use?\u001b[22m \u001b[90m›\u001b[39m Just HTML\n",
            "\u001b[?25h\u001b[?25l\u001b[36m?\u001b[39m \u001b[1mWhich model would you like to use?\u001b[22m \u001b[90m›\u001b[39m \u001b[90m- Use arrow-keys. Return to submit.\u001b[39m\n",
            "\u001b[36m❯\u001b[39m  \u001b[36m\u001b[4mgpt-3.5-turbo\u001b[39m\u001b[24m\n",
            "   gpt-4-turbo-preview\n",
            "   gpt-4\n",
            "   gpt-4-vision-preview\u001b[2K\u001b[1A\u001b[2K\u001b[1A\u001b[2K\u001b[1A\u001b[2K\u001b[1A\u001b[2K\u001b[G\u001b[32m✔\u001b[39m \u001b[1mWhich model would you like to use?\u001b[22m \u001b[90m›\u001b[39m gpt-3.5-turbo\n",
            "\u001b[?25h\u001b[?25l\u001b[36m?\u001b[39m \u001b[1mWhich data source would you like to use?\u001b[22m \u001b[90m›\u001b[39m \u001b[90m- Use arrow-keys. Return to submit.\u001b[39m\n",
            "   No data, just a simple chat\n",
            "\u001b[36m❯\u001b[39m  \u001b[36m\u001b[4mUse an example PDF\u001b[39m\u001b[24m\u001b[2K\u001b[1A\u001b[2K\u001b[1A\u001b[2K\u001b[G\u001b[32m✔\u001b[39m \u001b[1mWhich data source would you like to use?\u001b[22m \u001b[90m›\u001b[39m Use an example PDF\n",
            "\u001b[?25h\u001b[?25l\u001b[36m?\u001b[39m \u001b[1mWould you like to use a vector database?\u001b[22m \u001b[90m›\u001b[39m \u001b[90m- Use arrow-keys. Return to submit.\u001b[39m\n",
            "\u001b[36m❯\u001b[39m  \u001b[36m\u001b[4mNo, just store the data in the file system\u001b[39m\u001b[24m\n",
            "   MongoDB\n",
            "   PostgreSQL\u001b[2K\u001b[1A\u001b[2K\u001b[1A\u001b[2K\u001b[1A\u001b[2K\u001b[G\u001b[32m✔\u001b[39m \u001b[1mWould you like to use a vector database?\u001b[22m \u001b[90m›\u001b[39m No, just store the data in the file system\n",
            "\u001b[?25h\u001b[2K\u001b[1G\u001b[36m?\u001b[39m \u001b[1mPlease provide your OpenAI API key (leave blank to skip):\u001b[22m \u001b[90m›\u001b[39m \u001b[2K\u001b[1G\u001b[32m✔\u001b[39m \u001b[1mPlease provide your OpenAI API key (leave blank to skip):\u001b[22m \u001b[90m…\u001b[39m \n",
            "\u001b[?25h\u001b[?25l\u001b[2K\u001b[G\u001b[1G\u001b[36m?\u001b[39m \u001b[1mWould you like to use \u001b[34mESLint\u001b[39m?\u001b[22m \u001b[90m›\u001b[39m No \u001b[90m/\u001b[39m \u001b[36m\u001b[4mYes\u001b[39m\u001b[24m\u001b[2K\u001b[G\u001b[1G\u001b[32m✔\u001b[39m \u001b[1mWould you like to use \u001b[34mESLint\u001b[39m?\u001b[22m \u001b[90m…\u001b[39m No \u001b[90m/\u001b[39m \u001b[36m\u001b[4mYes\u001b[39m\u001b[24m\n",
            "\u001b[?25h\u001b[?25l\u001b[36m?\u001b[39m \u001b[1mHow would you like to proceed?\u001b[22m \u001b[90m›\u001b[39m \u001b[90m- Use arrow-keys. Return to submit.\u001b[39m\n",
            "   Just generate code (~1 sec)\n",
            "\u001b[36m❯\u001b[39m  \u001b[36m\u001b[4mGenerate code and install dependencies (~2 min)\u001b[39m\u001b[24m\u001b[2K\u001b[1A\u001b[2K\u001b[1A\u001b[2K\u001b[G\u001b[32m✔\u001b[39m \u001b[1mHow would you like to proceed?\u001b[22m \u001b[90m›\u001b[39m Generate code and install dependencies (~2 min)\n",
            "\u001b[?25hCreating a new LlamaIndex app in \u001b[32m/content/my-app\u001b[39m.\n",
            "\n",
            "\u001b[1mUsing npm.\u001b[22m\n",
            "\n",
            "Initializing project with template: streaming \n",
            "\n",
            "\n",
            "Using chat engine: context \n",
            "\n",
            "\n",
            "Using vector DB: none \n",
            "\n",
            "\n",
            "Using UI: html \n",
            "\n",
            "\n",
            "Installing dependencies:\n",
            "- \u001b[36m@radix-ui/react-slot\u001b[39m\n",
            "- \u001b[36mai\u001b[39m\n",
            "- \u001b[36mclass-variance-authority\u001b[39m\n",
            "- \u001b[36mclsx\u001b[39m\n",
            "- \u001b[36mdotenv\u001b[39m\n",
            "- \u001b[36mllamaindex\u001b[39m\n",
            "- \u001b[36mlucide-react\u001b[39m\n",
            "- \u001b[36mnext\u001b[39m\n",
            "- \u001b[36mreact\u001b[39m\n",
            "- \u001b[36mreact-dom\u001b[39m\n",
            "- \u001b[36mreact-markdown\u001b[39m\n",
            "- \u001b[36mreact-syntax-highlighter\u001b[39m\n",
            "- \u001b[36mremark\u001b[39m\n",
            "- \u001b[36mremark-code-import\u001b[39m\n",
            "- \u001b[36mremark-gfm\u001b[39m\n",
            "- \u001b[36mremark-math\u001b[39m\n",
            "- \u001b[36msupports-color\u001b[39m\n",
            "- \u001b[36mtailwind-merge\u001b[39m\n",
            "\n",
            "Installing devDependencies:\n",
            "- \u001b[36m@types/node\u001b[39m\n",
            "- \u001b[36m@types/react\u001b[39m\n",
            "- \u001b[36m@types/react-dom\u001b[39m\n",
            "- \u001b[36mautoprefixer\u001b[39m\n",
            "- \u001b[36meslint\u001b[39m\n",
            "- \u001b[36meslint-config-next\u001b[39m\n",
            "- \u001b[36mpostcss\u001b[39m\n",
            "- \u001b[36mtailwindcss\u001b[39m\n",
            "- \u001b[36mtypescript\u001b[39m\n",
            "- \u001b[36m@types/react-syntax-highlighter\u001b[39m\n",
            "- \u001b[36mcross-env\u001b[39m\n",
            "\n",
            "\u001b[K\u001b[?25h\u001b[37;40mnpm\u001b[0m \u001b[0m\u001b[30;43mWARN\u001b[0m \u001b[0m\u001b[35mEBADENGINE\u001b[0m Unsupported engine {\n",
            "\u001b[0m\u001b[37;40mnpm\u001b[0m \u001b[0m\u001b[30;43mWARN\u001b[0m \u001b[0m\u001b[35mEBADENGINE\u001b[0m   package: '@qdrant/openapi-typescript-fetch@1.2.4',\n",
            "\u001b[0m\u001b[37;40mnpm\u001b[0m \u001b[0m\u001b[30;43mWARN\u001b[0m \u001b[0m\u001b[35mEBADENGINE\u001b[0m   required: { node: '>=21.0.0', pnpm: '>=8' },\n",
            "\u001b[0m\u001b[37;40mnpm\u001b[0m \u001b[0m\u001b[30;43mWARN\u001b[0m \u001b[0m\u001b[35mEBADENGINE\u001b[0m   current: { node: 'v18.19.1', npm: '10.2.4' }\n",
            "\u001b[0m\u001b[37;40mnpm\u001b[0m \u001b[0m\u001b[30;43mWARN\u001b[0m \u001b[0m\u001b[35mEBADENGINE\u001b[0m }\n",
            "\u001b[K\u001b[?25h\u001b[37;40mnpm\u001b[0m \u001b[0m\u001b[30;43mWARN\u001b[0m \u001b[0m\u001b[35mdeprecated\u001b[0m fs-promise@2.0.3: Use mz or fs-extra^3.0 with Promise Support\n",
            "\u001b[K\u001b[?25h\n",
            "added 649 packages, and audited 651 packages in 50s\n",
            "\n",
            "155 packages are looking for funding\n",
            "  run `npm fund` for details\n",
            "\n",
            "found \u001b[32m\u001b[1m0\u001b[22m\u001b[39m vulnerabilities\n",
            "\n",
            "Using OpenAI model:  gpt-3.5-turbo-0125 \n",
            "\n",
            "Created '.env' file. Please check the settings.\n",
            "\n",
            "Copying data to \u001b[36m/content/my-app/data\u001b[39m\n",
            "\n",
            "\n",
            "After setting your OpenAI key, run \u001b[36mnpm run generate\u001b[39m to generate the context data.\n",
            "\n",
            "\n",
            "\n",
            "\u001b[32mSuccess!\u001b[39m Created my-app at /content/my-app\n",
            "Now have a look at the README.md (​file:///content/my-app/README.md​) and learn how to get started.\n",
            "\n",
            "\u001b[37;40mnpm\u001b[0m \u001b[0m\u001b[36;40mnotice\u001b[0m\u001b[35m\u001b[0m \n",
            "\u001b[0m\u001b[37;40mnpm\u001b[0m \u001b[0m\u001b[36;40mnotice\u001b[0m\u001b[35m\u001b[0m New \u001b[33mminor\u001b[39m version of npm available! \u001b[31m10.2.4\u001b[39m -> \u001b[32m10.4.0\u001b[39m\n",
            "\u001b[0m\u001b[37;40mnpm\u001b[0m \u001b[0m\u001b[36;40mnotice\u001b[0m\u001b[35m\u001b[0m Changelog: \u001b[36mhttps://github.com/npm/cli/releases/tag/v10.4.0\u001b[39m\n",
            "\u001b[0m\u001b[37;40mnpm\u001b[0m \u001b[0m\u001b[36;40mnotice\u001b[0m\u001b[35m\u001b[0m Run \u001b[32mnpm install -g npm@10.4.0\u001b[39m to update!\n",
            "\u001b[0m\u001b[37;40mnpm\u001b[0m \u001b[0m\u001b[36;40mnotice\u001b[0m\u001b[35m\u001b[0m \n",
            "\u001b[0m"
          ]
        }
      ]
    },
    {
      "cell_type": "markdown",
      "source": [
        "## Step 6: Push the initial app version to GitHub\n",
        "\n",
        "We need to push the code to github with the .env, but we don't want to include our API key yet. We need to add the API later to the .env to generate our vector store here, and at that point we will also add the .env to the .gitignore"
      ],
      "metadata": {
        "id": "yRaPNjJP91Yb"
      }
    },
    {
      "cell_type": "code",
      "source": [
        "!git -C ./my-app init"
      ],
      "metadata": {
        "colab": {
          "base_uri": "https://localhost:8080/"
        },
        "id": "ZBY9hgXMILwT",
        "outputId": "65f80050-d1e0-4942-8fb6-5f565f444782"
      },
      "execution_count": 9,
      "outputs": [
        {
          "output_type": "stream",
          "name": "stdout",
          "text": [
            "\u001b[33mhint: Using 'master' as the name for the initial branch. This default branch name\u001b[m\n",
            "\u001b[33mhint: is subject to change. To configure the initial branch name to use in all\u001b[m\n",
            "\u001b[33mhint: of your new repositories, which will suppress this warning, call:\u001b[m\n",
            "\u001b[33mhint: \u001b[m\n",
            "\u001b[33mhint: \tgit config --global init.defaultBranch <name>\u001b[m\n",
            "\u001b[33mhint: \u001b[m\n",
            "\u001b[33mhint: Names commonly chosen instead of 'master' are 'main', 'trunk' and\u001b[m\n",
            "\u001b[33mhint: 'development'. The just-created branch can be renamed via this command:\u001b[m\n",
            "\u001b[33mhint: \u001b[m\n",
            "\u001b[33mhint: \tgit branch -m <name>\u001b[m\n",
            "Initialized empty Git repository in /content/my-app/.git/\n"
          ]
        }
      ]
    },
    {
      "cell_type": "code",
      "source": [
        "# prompt: add openai_api_key to .env and add .env to .gitignore\n",
        "\n",
        "!echo \"OPENAI_API_KEY=$MYAPIKEY\" >> ./my-app/.env\n",
        "!echo \".env\" >> ./my-app/.gitignore"
      ],
      "metadata": {
        "id": "G8uln2bSIs7V"
      },
      "execution_count": null,
      "outputs": []
    },
    {
      "cell_type": "code",
      "source": [
        "!git -C ./my-app add ."
      ],
      "metadata": {
        "id": "T5Lqy_DGILnO"
      },
      "execution_count": 10,
      "outputs": []
    },
    {
      "cell_type": "code",
      "source": [
        "!git config --global user.email $MYEMAIL"
      ],
      "metadata": {
        "id": "4aS5pVNIIy43"
      },
      "execution_count": 11,
      "outputs": []
    },
    {
      "cell_type": "code",
      "source": [
        "!git config --global user.name $MYNAME"
      ],
      "metadata": {
        "id": "_Yw4kDR9I52F"
      },
      "execution_count": 12,
      "outputs": []
    },
    {
      "cell_type": "code",
      "source": [
        "!git -C ./my-app commit -m \"first commit\""
      ],
      "metadata": {
        "colab": {
          "base_uri": "https://localhost:8080/"
        },
        "id": "CXjje073ILfB",
        "outputId": "fe15b1b0-a412-4c80-d5e5-32efb577289b"
      },
      "execution_count": 13,
      "outputs": [
        {
          "output_type": "stream",
          "name": "stdout",
          "text": [
            "[master (root-commit) 8df41f8] first commit\n",
            " 29 files changed, 8544 insertions(+)\n",
            " create mode 100644 .env\n",
            " create mode 100644 .eslintrc.json\n",
            " create mode 100644 .gitignore\n",
            " create mode 100644 README.md\n",
            " create mode 100644 app/api/chat/engine/constants.mjs\n",
            " create mode 100644 app/api/chat/engine/generate.mjs\n",
            " create mode 100644 app/api/chat/engine/index.ts\n",
            " create mode 100644 app/api/chat/llamaindex-stream.ts\n",
            " create mode 100644 app/api/chat/route.ts\n",
            " create mode 100644 app/components/chat-section.tsx\n",
            " create mode 100644 app/components/header.tsx\n",
            " create mode 100644 app/components/transform.ts\n",
            " create mode 100644 app/components/ui/chat/chat-avatar.tsx\n",
            " create mode 100644 app/components/ui/chat/chat-input.tsx\n",
            " create mode 100644 app/components/ui/chat/chat-item.tsx\n",
            " create mode 100644 app/components/ui/chat/chat-messages.tsx\n",
            " create mode 100644 app/components/ui/chat/index.ts\n",
            " create mode 100644 app/favicon.ico\n",
            " create mode 100644 app/globals.css\n",
            " create mode 100644 app/layout.tsx\n",
            " create mode 100644 app/page.tsx\n",
            " create mode 100644 data/101.pdf\n",
            " create mode 100644 next.config.js\n",
            " create mode 100644 package-lock.json\n",
            " create mode 100644 package.json\n",
            " create mode 100644 postcss.config.js\n",
            " create mode 100644 public/llama.png\n",
            " create mode 100644 tailwind.config.ts\n",
            " create mode 100644 tsconfig.json\n"
          ]
        }
      ]
    },
    {
      "cell_type": "code",
      "source": [
        "!git -C ./my-app branch -M main"
      ],
      "metadata": {
        "id": "cqKUgKC9ILW7"
      },
      "execution_count": 14,
      "outputs": []
    },
    {
      "cell_type": "code",
      "source": [
        "!git -C ./my-app remote add origin $MYREPO\n"
      ],
      "metadata": {
        "id": "SbR78OOKILIh"
      },
      "execution_count": 15,
      "outputs": []
    },
    {
      "cell_type": "code",
      "source": [
        "!echo \"Host github.com\\n\\tStrictHostKeyChecking no\\n\" >> /root/.ssh/config\n"
      ],
      "metadata": {
        "id": "UNBMIQJPRfpv"
      },
      "execution_count": 16,
      "outputs": []
    },
    {
      "cell_type": "code",
      "source": [
        "!ssh-keyscan -t rsa github.com >> ~/.ssh/known_hosts"
      ],
      "metadata": {
        "colab": {
          "base_uri": "https://localhost:8080/"
        },
        "id": "ac1WK0WsSKx-",
        "outputId": "57ebe540-913d-48e7-f3df-f3ca7e930a45"
      },
      "execution_count": 17,
      "outputs": [
        {
          "output_type": "stream",
          "name": "stdout",
          "text": [
            "# github.com:22 SSH-2.0-babeld-8405f9f3\n"
          ]
        }
      ]
    },
    {
      "cell_type": "code",
      "source": [
        "!git -C ./my-app push -u origin main"
      ],
      "metadata": {
        "colab": {
          "base_uri": "https://localhost:8080/"
        },
        "id": "qm3qeHh7IdzT",
        "outputId": "1a2a2fd5-227b-4f4a-b788-34a4b1687903"
      },
      "execution_count": 18,
      "outputs": [
        {
          "output_type": "stream",
          "name": "stdout",
          "text": [
            "Enumerating objects: 40, done.\n",
            "Counting objects:   2% (1/40)\rCounting objects:   5% (2/40)\rCounting objects:   7% (3/40)\rCounting objects:  10% (4/40)\rCounting objects:  12% (5/40)\rCounting objects:  15% (6/40)\rCounting objects:  17% (7/40)\rCounting objects:  20% (8/40)\rCounting objects:  22% (9/40)\rCounting objects:  25% (10/40)\rCounting objects:  27% (11/40)\rCounting objects:  30% (12/40)\rCounting objects:  32% (13/40)\rCounting objects:  35% (14/40)\rCounting objects:  37% (15/40)\rCounting objects:  40% (16/40)\rCounting objects:  42% (17/40)\rCounting objects:  45% (18/40)\rCounting objects:  47% (19/40)\rCounting objects:  50% (20/40)\rCounting objects:  52% (21/40)\rCounting objects:  55% (22/40)\rCounting objects:  57% (23/40)\rCounting objects:  60% (24/40)\rCounting objects:  62% (25/40)\rCounting objects:  65% (26/40)\rCounting objects:  67% (27/40)\rCounting objects:  70% (28/40)\rCounting objects:  72% (29/40)\rCounting objects:  75% (30/40)\rCounting objects:  77% (31/40)\rCounting objects:  80% (32/40)\rCounting objects:  82% (33/40)\rCounting objects:  85% (34/40)\rCounting objects:  87% (35/40)\rCounting objects:  90% (36/40)\rCounting objects:  92% (37/40)\rCounting objects:  95% (38/40)\rCounting objects:  97% (39/40)\rCounting objects: 100% (40/40)\rCounting objects: 100% (40/40), done.\n",
            "Delta compression using up to 2 threads\n",
            "Compressing objects:   2% (1/35)\rCompressing objects:   5% (2/35)\rCompressing objects:   8% (3/35)\rCompressing objects:  11% (4/35)\rCompressing objects:  14% (5/35)\rCompressing objects:  17% (6/35)\rCompressing objects:  20% (7/35)\rCompressing objects:  22% (8/35)\rCompressing objects:  25% (9/35)\rCompressing objects:  28% (10/35)\rCompressing objects:  31% (11/35)\rCompressing objects:  34% (12/35)\rCompressing objects:  37% (13/35)\rCompressing objects:  40% (14/35)\rCompressing objects:  42% (15/35)\rCompressing objects:  45% (16/35)\rCompressing objects:  48% (17/35)\rCompressing objects:  51% (18/35)\rCompressing objects:  54% (19/35)\rCompressing objects:  57% (20/35)\rCompressing objects:  60% (21/35)\rCompressing objects:  62% (22/35)\rCompressing objects:  65% (23/35)\rCompressing objects:  68% (24/35)\rCompressing objects:  71% (25/35)\rCompressing objects:  74% (26/35)\rCompressing objects:  77% (27/35)\rCompressing objects:  80% (28/35)\rCompressing objects:  82% (29/35)\rCompressing objects:  85% (30/35)\rCompressing objects:  88% (31/35)\rCompressing objects:  91% (32/35)\rCompressing objects:  94% (33/35)\rCompressing objects:  97% (34/35)\rCompressing objects: 100% (35/35)\rCompressing objects: 100% (35/35), done.\n",
            "Writing objects:   2% (1/40)\rWriting objects:   5% (2/40)\rWriting objects:   7% (3/40)\rWriting objects:  10% (4/40)\rWriting objects:  12% (5/40)\rWriting objects:  15% (6/40)\rWriting objects:  17% (7/40)\rWriting objects:  20% (8/40)\rWriting objects:  22% (9/40)\rWriting objects:  25% (10/40)\rWriting objects:  27% (11/40)\rWriting objects:  30% (12/40)\rWriting objects:  32% (13/40)\rWriting objects:  35% (14/40)\rWriting objects:  37% (15/40)\rWriting objects:  40% (16/40)\rWriting objects:  42% (17/40)\rWriting objects:  45% (18/40)\rWriting objects:  47% (19/40)\rWriting objects:  50% (20/40)\rWriting objects:  52% (21/40)\rWriting objects:  55% (22/40)\rWriting objects:  57% (23/40)\rWriting objects:  60% (24/40)\rWriting objects:  62% (25/40)\rWriting objects:  65% (26/40)\rWriting objects:  67% (27/40)\rWriting objects:  70% (28/40)\rWriting objects:  72% (29/40)\rWriting objects:  75% (30/40)\rWriting objects:  77% (31/40)\rWriting objects:  80% (32/40)\rWriting objects:  82% (33/40)\rWriting objects:  85% (34/40)\rWriting objects:  87% (35/40)\rWriting objects:  90% (36/40)\rWriting objects:  92% (37/40)\rWriting objects:  95% (38/40)\rWriting objects:  97% (39/40)\rWriting objects: 100% (40/40)\rWriting objects: 100% (40/40), 165.81 KiB | 8.73 MiB/s, done.\n",
            "Total 40 (delta 0), reused 0 (delta 0), pack-reused 0\n",
            "To github.com:mindfulcoder49/my-create-llama-app.git\n",
            " * [new branch]      main -> main\n",
            "Branch 'main' set up to track remote branch 'main' from 'origin'.\n"
          ]
        }
      ]
    },
    {
      "cell_type": "markdown",
      "source": [
        " ## Step 7: Deploy Repository as Project on Vercel"
      ],
      "metadata": {
        "id": "_8DVTYCM-bsM"
      }
    },
    {
      "cell_type": "code",
      "source": [
        "!cat my-app/.env"
      ],
      "metadata": {
        "id": "2gQyytg1-fKo"
      },
      "execution_count": null,
      "outputs": []
    },
    {
      "cell_type": "markdown",
      "source": [
        "Copy the output from the above code and paste them into the Environment Variables section of the Vercel Project Deployment page. Then right-click on the output above and select \"Clear Output\" to protect your API key."
      ],
      "metadata": {
        "id": "0_HLgNfrEX0g"
      }
    },
    {
      "cell_type": "markdown",
      "source": [
        "## Step 8a: Generate Vector Embeddings for RAG\n",
        "\n",
        "You can run step 8 repeatedly after adding more documents to the data folder to add knowledge to your RAG app"
      ],
      "metadata": {
        "id": "SB_MSPEQAfZg"
      }
    },
    {
      "cell_type": "code",
      "source": [
        "#First we pull in case we have made changes to the interface in vscode.dev (see step 10)\n",
        "!git -C my-app pull"
      ],
      "metadata": {
        "colab": {
          "base_uri": "https://localhost:8080/"
        },
        "id": "TS0wpo6EFqGe",
        "outputId": "a109dded-93ac-429b-88d6-64611f0e037a"
      },
      "execution_count": 48,
      "outputs": [
        {
          "output_type": "stream",
          "name": "stdout",
          "text": [
            "remote: Enumerating objects: 9, done.\u001b[K\n",
            "remote: Counting objects:  11% (1/9)\u001b[K\rremote: Counting objects:  22% (2/9)\u001b[K\rremote: Counting objects:  33% (3/9)\u001b[K\rremote: Counting objects:  44% (4/9)\u001b[K\rremote: Counting objects:  55% (5/9)\u001b[K\rremote: Counting objects:  66% (6/9)\u001b[K\rremote: Counting objects:  77% (7/9)\u001b[K\rremote: Counting objects:  88% (8/9)\u001b[K\rremote: Counting objects: 100% (9/9)\u001b[K\rremote: Counting objects: 100% (9/9), done.\u001b[K\n",
            "remote: Compressing objects:  20% (1/5)\u001b[K\rremote: Compressing objects:  40% (2/5)\u001b[K\rremote: Compressing objects:  60% (3/5)\u001b[K\rremote: Compressing objects:  80% (4/5)\u001b[K\rremote: Compressing objects: 100% (5/5)\u001b[K\rremote: Compressing objects: 100% (5/5), done.\u001b[K\n",
            "remote: Total 5 (delta 3), reused 0 (delta 0), pack-reused 0\u001b[K\n",
            "Unpacking objects:  20% (1/5)\rUnpacking objects:  40% (2/5)\rUnpacking objects:  60% (3/5)\rUnpacking objects:  80% (4/5)\rUnpacking objects: 100% (5/5)\rUnpacking objects: 100% (5/5), 1.16 KiB | 592.00 KiB/s, done.\n",
            "From github.com:mindfulcoder49/my-create-llama-app\n",
            "   eb269bd..82b4835  main       -> origin/main\n",
            "Updating eb269bd..82b4835\n",
            "Fast-forward\n",
            " app/components/header.tsx | 6 \u001b[32m+\u001b[m\u001b[31m-----\u001b[m\n",
            " 1 file changed, 1 insertion(+), 5 deletions(-)\n"
          ]
        }
      ]
    },
    {
      "cell_type": "code",
      "source": [
        "!npm -C my-app run generate"
      ],
      "metadata": {
        "colab": {
          "base_uri": "https://localhost:8080/"
        },
        "id": "h7f16F-y356h",
        "outputId": "92e04ab8-7f15-4fc8-ee15-7985c0a0d3a0"
      },
      "execution_count": 49,
      "outputs": [
        {
          "output_type": "stream",
          "name": "stdout",
          "text": [
            "\n",
            "> my-app@0.1.0 generate\n",
            "> node app/api/chat/engine/generate.mjs\n",
            "\n",
            "Generating storage context...\n",
            "Storage context successfully generated in 1.998s.\n",
            "Finished generating storage.\n"
          ]
        }
      ]
    },
    {
      "cell_type": "markdown",
      "source": [
        "## Step 8b: Push Embeddings to GitHub"
      ],
      "metadata": {
        "id": "KzZusuxF-XHt"
      }
    },
    {
      "cell_type": "code",
      "source": [
        "!git -C ./my-app add ."
      ],
      "metadata": {
        "id": "aG7bHLBi4Xlj"
      },
      "execution_count": 50,
      "outputs": []
    },
    {
      "cell_type": "code",
      "source": [
        "!git -C ./my-app commit -m \"add vector store for RAG\""
      ],
      "metadata": {
        "colab": {
          "base_uri": "https://localhost:8080/"
        },
        "id": "HyZGS5HB4wKd",
        "outputId": "21a54a7e-f851-4140-eaf9-9e4f61a9cb1c"
      },
      "execution_count": 51,
      "outputs": [
        {
          "output_type": "stream",
          "name": "stdout",
          "text": [
            "[main 7c92fe0] add vector store for RAG\n",
            " 4 files changed, 3 insertions(+), 3 deletions(-)\n",
            " rewrite cache/doc_store.json (90%)\n",
            " create mode 100644 data/Alex Rich-Shea Resume 2023.pdf\n"
          ]
        }
      ]
    },
    {
      "cell_type": "code",
      "source": [
        "!git -C ./my-app push -u origin main"
      ],
      "metadata": {
        "colab": {
          "base_uri": "https://localhost:8080/"
        },
        "id": "Je7ApxCD2T2C",
        "outputId": "d40f19c8-5056-4dd4-e264-95e582fdb162"
      },
      "execution_count": 52,
      "outputs": [
        {
          "output_type": "stream",
          "name": "stdout",
          "text": [
            "Enumerating objects: 14, done.\n",
            "Counting objects:   7% (1/14)\rCounting objects:  14% (2/14)\rCounting objects:  21% (3/14)\rCounting objects:  28% (4/14)\rCounting objects:  35% (5/14)\rCounting objects:  42% (6/14)\rCounting objects:  50% (7/14)\rCounting objects:  57% (8/14)\rCounting objects:  64% (9/14)\rCounting objects:  71% (10/14)\rCounting objects:  78% (11/14)\rCounting objects:  85% (12/14)\rCounting objects:  92% (13/14)\rCounting objects: 100% (14/14)\rCounting objects: 100% (14/14), done.\n",
            "Delta compression using up to 2 threads\n",
            "Compressing objects:  12% (1/8)\rCompressing objects:  25% (2/8)\rCompressing objects:  37% (3/8)\rCompressing objects:  50% (4/8)\rCompressing objects:  62% (5/8)\rCompressing objects:  75% (6/8)\rCompressing objects:  87% (7/8)\rCompressing objects: 100% (8/8)\rCompressing objects: 100% (8/8), done.\n",
            "Writing objects:  12% (1/8)\rWriting objects:  25% (2/8)\rWriting objects:  37% (3/8)\rWriting objects:  50% (4/8)\rWriting objects:  62% (5/8)\rWriting objects:  75% (6/8)\rWriting objects:  87% (7/8)\rWriting objects: 100% (8/8)\rWriting objects: 100% (8/8), 57.07 KiB | 2.85 MiB/s, done.\n",
            "Total 8 (delta 4), reused 0 (delta 0), pack-reused 0\n",
            "remote: Resolving deltas:   0% (0/4)\u001b[K\rremote: Resolving deltas:  25% (1/4)\u001b[K\rremote: Resolving deltas:  50% (2/4)\u001b[K\rremote: Resolving deltas:  75% (3/4)\u001b[K\rremote: Resolving deltas: 100% (4/4)\u001b[K\rremote: Resolving deltas: 100% (4/4), completed with 4 local objects.\u001b[K\n",
            "To github.com:mindfulcoder49/my-create-llama-app.git\n",
            "   82b4835..7c92fe0  main -> main\n",
            "Branch 'main' set up to track remote branch 'main' from 'origin'.\n"
          ]
        }
      ]
    },
    {
      "cell_type": "markdown",
      "source": [
        " ## Step 10: Use vscode.dev to work on your app code\n",
        "\n",
        " Google Colab is great for running the backend functions on our app to create our vector embeddings, but it doesn't have a good way to edit our codebase to change the frontend interface. For that we can use vscode! We will keep Google Colab and VsCode in sync using git version control! Hooray!"
      ],
      "metadata": {
        "id": "sskkPauYF5g7"
      }
    }
  ]
}